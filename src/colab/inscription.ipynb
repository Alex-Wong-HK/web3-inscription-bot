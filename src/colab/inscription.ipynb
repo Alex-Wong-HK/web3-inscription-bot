{
  "nbformat": 4,
  "nbformat_minor": 0,
  "metadata": {
    "colab": {
      "provenance": []
    },
    "kernelspec": {
      "name": "python3",
      "display_name": "Python 3"
    },
    "language_info": {
      "name": "python"
    }
  },
  "cells": [
    {
      "cell_type": "code",
      "source": [
        "%pip install protobuf==4.21.9\n",
        "%pip install Web3"
      ],
      "metadata": {
        "id": "5qL-PywCADaU",
        "colab": {
          "base_uri": "https://localhost:8080/"
        },
        "outputId": "01d92e6d-be59-479c-a99f-af40a4b5d317"
      },
      "execution_count": null,
      "outputs": [
        {
          "output_type": "stream",
          "name": "stdout",
          "text": [
            "Requirement already satisfied: protobuf==4.21.9 in /usr/local/lib/python3.10/dist-packages (4.21.9)\n",
            "Requirement already satisfied: Web3 in /usr/local/lib/python3.10/dist-packages (6.11.3)\n",
            "Requirement already satisfied: aiohttp>=3.7.4.post0 in /usr/local/lib/python3.10/dist-packages (from Web3) (3.8.6)\n",
            "Requirement already satisfied: eth-abi>=4.0.0 in /usr/local/lib/python3.10/dist-packages (from Web3) (4.2.1)\n",
            "Requirement already satisfied: eth-account>=0.8.0 in /usr/local/lib/python3.10/dist-packages (from Web3) (0.10.0)\n",
            "Requirement already satisfied: eth-hash[pycryptodome]>=0.5.1 in /usr/local/lib/python3.10/dist-packages (from Web3) (0.5.2)\n",
            "Requirement already satisfied: eth-typing>=3.0.0 in /usr/local/lib/python3.10/dist-packages (from Web3) (3.5.2)\n",
            "Requirement already satisfied: eth-utils>=2.1.0 in /usr/local/lib/python3.10/dist-packages (from Web3) (2.3.1)\n",
            "Requirement already satisfied: hexbytes<0.4.0,>=0.1.0 in /usr/local/lib/python3.10/dist-packages (from Web3) (0.3.1)\n",
            "Requirement already satisfied: jsonschema>=4.0.0 in /usr/local/lib/python3.10/dist-packages (from Web3) (4.19.2)\n",
            "Requirement already satisfied: lru-dict<1.3.0,>=1.1.6 in /usr/local/lib/python3.10/dist-packages (from Web3) (1.2.0)\n",
            "Requirement already satisfied: protobuf>=4.21.6 in /usr/local/lib/python3.10/dist-packages (from Web3) (4.21.9)\n",
            "Requirement already satisfied: requests>=2.16.0 in /usr/local/lib/python3.10/dist-packages (from Web3) (2.31.0)\n",
            "Requirement already satisfied: typing-extensions>=4.0.1 in /usr/local/lib/python3.10/dist-packages (from Web3) (4.5.0)\n",
            "Requirement already satisfied: websockets>=10.0.0 in /usr/local/lib/python3.10/dist-packages (from Web3) (12.0)\n",
            "Requirement already satisfied: pyunormalize>=15.0.0 in /usr/local/lib/python3.10/dist-packages (from Web3) (15.1.0)\n",
            "Requirement already satisfied: attrs>=17.3.0 in /usr/local/lib/python3.10/dist-packages (from aiohttp>=3.7.4.post0->Web3) (23.1.0)\n",
            "Requirement already satisfied: charset-normalizer<4.0,>=2.0 in /usr/local/lib/python3.10/dist-packages (from aiohttp>=3.7.4.post0->Web3) (3.3.2)\n",
            "Requirement already satisfied: multidict<7.0,>=4.5 in /usr/local/lib/python3.10/dist-packages (from aiohttp>=3.7.4.post0->Web3) (6.0.4)\n",
            "Requirement already satisfied: async-timeout<5.0,>=4.0.0a3 in /usr/local/lib/python3.10/dist-packages (from aiohttp>=3.7.4.post0->Web3) (4.0.3)\n",
            "Requirement already satisfied: yarl<2.0,>=1.0 in /usr/local/lib/python3.10/dist-packages (from aiohttp>=3.7.4.post0->Web3) (1.9.2)\n",
            "Requirement already satisfied: frozenlist>=1.1.1 in /usr/local/lib/python3.10/dist-packages (from aiohttp>=3.7.4.post0->Web3) (1.4.0)\n",
            "Requirement already satisfied: aiosignal>=1.1.2 in /usr/local/lib/python3.10/dist-packages (from aiohttp>=3.7.4.post0->Web3) (1.3.1)\n",
            "Requirement already satisfied: parsimonious<0.10.0,>=0.9.0 in /usr/local/lib/python3.10/dist-packages (from eth-abi>=4.0.0->Web3) (0.9.0)\n",
            "Requirement already satisfied: bitarray>=2.4.0 in /usr/local/lib/python3.10/dist-packages (from eth-account>=0.8.0->Web3) (2.8.3)\n",
            "Requirement already satisfied: eth-keyfile>=0.6.0 in /usr/local/lib/python3.10/dist-packages (from eth-account>=0.8.0->Web3) (0.6.1)\n",
            "Requirement already satisfied: eth-keys>=0.4.0 in /usr/local/lib/python3.10/dist-packages (from eth-account>=0.8.0->Web3) (0.4.0)\n",
            "Requirement already satisfied: eth-rlp>=0.3.0 in /usr/local/lib/python3.10/dist-packages (from eth-account>=0.8.0->Web3) (0.3.0)\n",
            "Requirement already satisfied: rlp>=1.0.0 in /usr/local/lib/python3.10/dist-packages (from eth-account>=0.8.0->Web3) (3.0.0)\n",
            "Requirement already satisfied: pycryptodome<4,>=3.6.6 in /usr/local/lib/python3.10/dist-packages (from eth-hash[pycryptodome]>=0.5.1->Web3) (3.19.0)\n",
            "Requirement already satisfied: cytoolz>=0.10.1 in /usr/local/lib/python3.10/dist-packages (from eth-utils>=2.1.0->Web3) (0.12.2)\n",
            "Requirement already satisfied: jsonschema-specifications>=2023.03.6 in /usr/local/lib/python3.10/dist-packages (from jsonschema>=4.0.0->Web3) (2023.11.1)\n",
            "Requirement already satisfied: referencing>=0.28.4 in /usr/local/lib/python3.10/dist-packages (from jsonschema>=4.0.0->Web3) (0.31.0)\n",
            "Requirement already satisfied: rpds-py>=0.7.1 in /usr/local/lib/python3.10/dist-packages (from jsonschema>=4.0.0->Web3) (0.12.0)\n",
            "Requirement already satisfied: idna<4,>=2.5 in /usr/local/lib/python3.10/dist-packages (from requests>=2.16.0->Web3) (3.4)\n",
            "Requirement already satisfied: urllib3<3,>=1.21.1 in /usr/local/lib/python3.10/dist-packages (from requests>=2.16.0->Web3) (2.0.7)\n",
            "Requirement already satisfied: certifi>=2017.4.17 in /usr/local/lib/python3.10/dist-packages (from requests>=2.16.0->Web3) (2023.7.22)\n",
            "Requirement already satisfied: toolz>=0.8.0 in /usr/local/lib/python3.10/dist-packages (from cytoolz>=0.10.1->eth-utils>=2.1.0->Web3) (0.12.0)\n",
            "Requirement already satisfied: regex>=2022.3.15 in /usr/local/lib/python3.10/dist-packages (from parsimonious<0.10.0,>=0.9.0->eth-abi>=4.0.0->Web3) (2023.6.3)\n"
          ]
        }
      ]
    },
    {
      "cell_type": "markdown",
      "source": [
        "在使用之去要編輯\n",
        "\n",
        "\n",
        "\n",
        "*   address ： 你的地址\n",
        "*   _p : 你的錢包密鑰\n",
        "*   rpc_url : AVAX的就不用更改, (設定目標鏈, 其他鏈可以去https://chainlist.org/ 查看)\n",
        "*   _d : 打AVAL的就不用更改  (16位data)\n",
        "\n",
        "\n",
        "\n",
        "\n",
        "\n",
        "\n",
        "\n",
        "\n",
        "\n"
      ],
      "metadata": {
        "id": "0FCOank5ETvT"
      }
    },
    {
      "cell_type": "code",
      "source": [
        "from web3 import Web3\n",
        "\n",
        "address = 'walletAddress'\n",
        "_p = 'privateKeyhere'\n",
        "rpc_url = 'https://1rpc.io/avax/c'\n",
        "web3 = Web3(Web3.HTTPProvider(rpc_url))\n",
        "print(web3.is_connected())\n",
        "print(Web3.from_wei(web3.eth.get_balance(address),'ether'))\n",
        "c=0\n",
        "_d_t = b'data:,{\"p\":\"asc-20\",\"op\":\"mint\",\"tick\":\"aval\",\"amt\":\"100000000\"}'\n",
        "_d = '0x646174613a2c7b2270223a226173632d3230222c226f70223a226d696e74222c227469636b223a226176616c222c22616d74223a22313030303030303030227d'\n",
        "\n",
        "while True:\n",
        "    print(Web3.from_wei(web3.eth.get_balance(address),'ether'))\n",
        "    nonce = web3.eth.get_transaction_count(address)\n",
        "    tx = {\n",
        "        'nonce': nonce,\n",
        "        'chainId': 43114,\n",
        "        'to': address,\n",
        "        'from':address,\n",
        "        'data':_d,\n",
        "        'maxFeePerGas': Web3.to_wei(195, 'gwei'),\n",
        "        'maxPriorityFeePerGas': Web3.to_wei(18, 'gwei'),\n",
        "        # 'gas': 24000,\n",
        "        'value': Web3.to_wei(0, 'ether')\n",
        "    }\n",
        "    try:\n",
        "        gas = web3.eth.estimate_gas(tx)\n",
        "        tx['gas'] = gas\n",
        "        print(tx)\n",
        "        signed_tx = web3.eth.account.sign_transaction(tx,_p)\n",
        "        tx_hash = web3.eth.send_raw_transaction(signed_tx.rawTransaction)\n",
        "        print(web3.to_hex(tx_hash))\n",
        "        receipt = web3.eth.wait_for_transaction_receipt(tx_hash)\n",
        "        print(\"done\", receipt)\n",
        "        if receipt.status == 1:\n",
        "            c = c+1\n",
        "            print(\"%s Mint Success!\" %c)\n",
        "            continue\n",
        "        else:\n",
        "            continue\n",
        "    except Exception as e:\n",
        "        print(e)\n"
      ],
      "metadata": {
        "id": "uf17mRUH_3op"
      },
      "execution_count": null,
      "outputs": []
    }
  ]
}